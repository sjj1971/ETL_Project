{
 "cells": [
  {
   "cell_type": "code",
   "execution_count": 1,
   "metadata": {},
   "outputs": [],
   "source": [
    "import pandas as pd\n",
    "import matplotlib.pyplot as plt\n",
    "from sqlalchemy import create_engine"
   ]
  },
  {
   "cell_type": "code",
   "execution_count": 2,
   "metadata": {},
   "outputs": [],
   "source": [
    "file = pd.read_csv(\"./CSV/datasets_494766_1209874_worldometer_data.csv\")"
   ]
  },
  {
   "cell_type": "code",
   "execution_count": 3,
   "metadata": {},
   "outputs": [],
   "source": [
    "file_df = pd.DataFrame(file)"
   ]
  },
  {
   "cell_type": "code",
   "execution_count": 4,
   "metadata": {},
   "outputs": [
    {
     "data": {
      "text/html": [
       "<div>\n",
       "<style scoped>\n",
       "    .dataframe tbody tr th:only-of-type {\n",
       "        vertical-align: middle;\n",
       "    }\n",
       "\n",
       "    .dataframe tbody tr th {\n",
       "        vertical-align: top;\n",
       "    }\n",
       "\n",
       "    .dataframe thead th {\n",
       "        text-align: right;\n",
       "    }\n",
       "</style>\n",
       "<table border=\"1\" class=\"dataframe\">\n",
       "  <thead>\n",
       "    <tr style=\"text-align: right;\">\n",
       "      <th></th>\n",
       "      <th>Country/Region</th>\n",
       "      <th>Continent</th>\n",
       "      <th>Population</th>\n",
       "      <th>TotalCases</th>\n",
       "      <th>NewCases</th>\n",
       "      <th>TotalDeaths</th>\n",
       "      <th>NewDeaths</th>\n",
       "      <th>TotalRecovered</th>\n",
       "      <th>NewRecovered</th>\n",
       "      <th>ActiveCases</th>\n",
       "      <th>Serious,Critical</th>\n",
       "      <th>Tot Cases/1M pop</th>\n",
       "      <th>Deaths/1M pop</th>\n",
       "      <th>TotalTests</th>\n",
       "      <th>Tests/1M pop</th>\n",
       "    </tr>\n",
       "  </thead>\n",
       "  <tbody>\n",
       "    <tr>\n",
       "      <th>0</th>\n",
       "      <td>USA</td>\n",
       "      <td>North America</td>\n",
       "      <td>330854064.0</td>\n",
       "      <td>1881205</td>\n",
       "      <td>NaN</td>\n",
       "      <td>108059.0</td>\n",
       "      <td>NaN</td>\n",
       "      <td>645974.0</td>\n",
       "      <td>NaN</td>\n",
       "      <td>1127172.0</td>\n",
       "      <td>17114.0</td>\n",
       "      <td>5686.0</td>\n",
       "      <td>327.0</td>\n",
       "      <td>18603174.0</td>\n",
       "      <td>56228.0</td>\n",
       "    </tr>\n",
       "    <tr>\n",
       "      <th>1</th>\n",
       "      <td>Brazil</td>\n",
       "      <td>South America</td>\n",
       "      <td>212442762.0</td>\n",
       "      <td>558237</td>\n",
       "      <td>1569.0</td>\n",
       "      <td>31309.0</td>\n",
       "      <td>31.0</td>\n",
       "      <td>253570.0</td>\n",
       "      <td>12943.0</td>\n",
       "      <td>273358.0</td>\n",
       "      <td>8318.0</td>\n",
       "      <td>2628.0</td>\n",
       "      <td>147.0</td>\n",
       "      <td>930013.0</td>\n",
       "      <td>4378.0</td>\n",
       "    </tr>\n",
       "    <tr>\n",
       "      <th>2</th>\n",
       "      <td>Russia</td>\n",
       "      <td>Europe</td>\n",
       "      <td>145929848.0</td>\n",
       "      <td>423741</td>\n",
       "      <td>NaN</td>\n",
       "      <td>5037.0</td>\n",
       "      <td>NaN</td>\n",
       "      <td>186985.0</td>\n",
       "      <td>NaN</td>\n",
       "      <td>231719.0</td>\n",
       "      <td>2300.0</td>\n",
       "      <td>2904.0</td>\n",
       "      <td>35.0</td>\n",
       "      <td>11151622.0</td>\n",
       "      <td>76418.0</td>\n",
       "    </tr>\n",
       "    <tr>\n",
       "      <th>3</th>\n",
       "      <td>Spain</td>\n",
       "      <td>Europe</td>\n",
       "      <td>46753443.0</td>\n",
       "      <td>287012</td>\n",
       "      <td>NaN</td>\n",
       "      <td>27127.0</td>\n",
       "      <td>NaN</td>\n",
       "      <td>NaN</td>\n",
       "      <td>NaN</td>\n",
       "      <td>NaN</td>\n",
       "      <td>617.0</td>\n",
       "      <td>6139.0</td>\n",
       "      <td>580.0</td>\n",
       "      <td>4063843.0</td>\n",
       "      <td>86921.0</td>\n",
       "    </tr>\n",
       "    <tr>\n",
       "      <th>4</th>\n",
       "      <td>UK</td>\n",
       "      <td>Europe</td>\n",
       "      <td>67858826.0</td>\n",
       "      <td>277985</td>\n",
       "      <td>NaN</td>\n",
       "      <td>39369.0</td>\n",
       "      <td>NaN</td>\n",
       "      <td>NaN</td>\n",
       "      <td>NaN</td>\n",
       "      <td>NaN</td>\n",
       "      <td>1559.0</td>\n",
       "      <td>4097.0</td>\n",
       "      <td>580.0</td>\n",
       "      <td>4615146.0</td>\n",
       "      <td>68011.0</td>\n",
       "    </tr>\n",
       "  </tbody>\n",
       "</table>\n",
       "</div>"
      ],
      "text/plain": [
       "  Country/Region      Continent   Population  TotalCases  NewCases  \\\n",
       "0            USA  North America  330854064.0     1881205       NaN   \n",
       "1         Brazil  South America  212442762.0      558237    1569.0   \n",
       "2         Russia         Europe  145929848.0      423741       NaN   \n",
       "3          Spain         Europe   46753443.0      287012       NaN   \n",
       "4             UK         Europe   67858826.0      277985       NaN   \n",
       "\n",
       "   TotalDeaths  NewDeaths  TotalRecovered  NewRecovered  ActiveCases  \\\n",
       "0     108059.0        NaN        645974.0           NaN    1127172.0   \n",
       "1      31309.0       31.0        253570.0       12943.0     273358.0   \n",
       "2       5037.0        NaN        186985.0           NaN     231719.0   \n",
       "3      27127.0        NaN             NaN           NaN          NaN   \n",
       "4      39369.0        NaN             NaN           NaN          NaN   \n",
       "\n",
       "   Serious,Critical  Tot Cases/1M pop  Deaths/1M pop  TotalTests  Tests/1M pop  \n",
       "0           17114.0            5686.0          327.0  18603174.0       56228.0  \n",
       "1            8318.0            2628.0          147.0    930013.0        4378.0  \n",
       "2            2300.0            2904.0           35.0  11151622.0       76418.0  \n",
       "3             617.0            6139.0          580.0   4063843.0       86921.0  \n",
       "4            1559.0            4097.0          580.0   4615146.0       68011.0  "
      ]
     },
     "execution_count": 4,
     "metadata": {},
     "output_type": "execute_result"
    }
   ],
   "source": [
    "file_df.head()"
   ]
  },
  {
   "cell_type": "code",
   "execution_count": 5,
   "metadata": {},
   "outputs": [],
   "source": [
    "covid = file_df[['Country/Region', 'Population', 'TotalCases', 'TotalDeaths', 'TotalTests']]"
   ]
  },
  {
   "cell_type": "code",
   "execution_count": 6,
   "metadata": {},
   "outputs": [
    {
     "data": {
      "text/html": [
       "<div>\n",
       "<style scoped>\n",
       "    .dataframe tbody tr th:only-of-type {\n",
       "        vertical-align: middle;\n",
       "    }\n",
       "\n",
       "    .dataframe tbody tr th {\n",
       "        vertical-align: top;\n",
       "    }\n",
       "\n",
       "    .dataframe thead th {\n",
       "        text-align: right;\n",
       "    }\n",
       "</style>\n",
       "<table border=\"1\" class=\"dataframe\">\n",
       "  <thead>\n",
       "    <tr style=\"text-align: right;\">\n",
       "      <th></th>\n",
       "      <th>Country/Region</th>\n",
       "      <th>Population</th>\n",
       "      <th>TotalCases</th>\n",
       "      <th>TotalDeaths</th>\n",
       "      <th>TotalTests</th>\n",
       "    </tr>\n",
       "  </thead>\n",
       "  <tbody>\n",
       "    <tr>\n",
       "      <th>0</th>\n",
       "      <td>USA</td>\n",
       "      <td>330854064.0</td>\n",
       "      <td>1881205</td>\n",
       "      <td>108059.0</td>\n",
       "      <td>18603174.0</td>\n",
       "    </tr>\n",
       "    <tr>\n",
       "      <th>1</th>\n",
       "      <td>Brazil</td>\n",
       "      <td>212442762.0</td>\n",
       "      <td>558237</td>\n",
       "      <td>31309.0</td>\n",
       "      <td>930013.0</td>\n",
       "    </tr>\n",
       "    <tr>\n",
       "      <th>2</th>\n",
       "      <td>Russia</td>\n",
       "      <td>145929848.0</td>\n",
       "      <td>423741</td>\n",
       "      <td>5037.0</td>\n",
       "      <td>11151622.0</td>\n",
       "    </tr>\n",
       "    <tr>\n",
       "      <th>3</th>\n",
       "      <td>Spain</td>\n",
       "      <td>46753443.0</td>\n",
       "      <td>287012</td>\n",
       "      <td>27127.0</td>\n",
       "      <td>4063843.0</td>\n",
       "    </tr>\n",
       "    <tr>\n",
       "      <th>4</th>\n",
       "      <td>UK</td>\n",
       "      <td>67858826.0</td>\n",
       "      <td>277985</td>\n",
       "      <td>39369.0</td>\n",
       "      <td>4615146.0</td>\n",
       "    </tr>\n",
       "    <tr>\n",
       "      <th>...</th>\n",
       "      <td>...</td>\n",
       "      <td>...</td>\n",
       "      <td>...</td>\n",
       "      <td>...</td>\n",
       "      <td>...</td>\n",
       "    </tr>\n",
       "    <tr>\n",
       "      <th>204</th>\n",
       "      <td>Seychelles</td>\n",
       "      <td>98300.0</td>\n",
       "      <td>11</td>\n",
       "      <td>NaN</td>\n",
       "      <td>NaN</td>\n",
       "    </tr>\n",
       "    <tr>\n",
       "      <th>205</th>\n",
       "      <td>MS Zaandam</td>\n",
       "      <td>NaN</td>\n",
       "      <td>9</td>\n",
       "      <td>2.0</td>\n",
       "      <td>NaN</td>\n",
       "    </tr>\n",
       "    <tr>\n",
       "      <th>206</th>\n",
       "      <td>Western Sahara</td>\n",
       "      <td>596066.0</td>\n",
       "      <td>9</td>\n",
       "      <td>1.0</td>\n",
       "      <td>NaN</td>\n",
       "    </tr>\n",
       "    <tr>\n",
       "      <th>207</th>\n",
       "      <td>British Virgin Islands</td>\n",
       "      <td>30216.0</td>\n",
       "      <td>8</td>\n",
       "      <td>1.0</td>\n",
       "      <td>167.0</td>\n",
       "    </tr>\n",
       "    <tr>\n",
       "      <th>208</th>\n",
       "      <td>Papua New Guinea</td>\n",
       "      <td>8932864.0</td>\n",
       "      <td>8</td>\n",
       "      <td>NaN</td>\n",
       "      <td>4646.0</td>\n",
       "    </tr>\n",
       "  </tbody>\n",
       "</table>\n",
       "<p>209 rows × 5 columns</p>\n",
       "</div>"
      ],
      "text/plain": [
       "             Country/Region   Population  TotalCases  TotalDeaths  TotalTests\n",
       "0                       USA  330854064.0     1881205     108059.0  18603174.0\n",
       "1                    Brazil  212442762.0      558237      31309.0    930013.0\n",
       "2                    Russia  145929848.0      423741       5037.0  11151622.0\n",
       "3                     Spain   46753443.0      287012      27127.0   4063843.0\n",
       "4                        UK   67858826.0      277985      39369.0   4615146.0\n",
       "..                      ...          ...         ...          ...         ...\n",
       "204              Seychelles      98300.0          11          NaN         NaN\n",
       "205              MS Zaandam          NaN           9          2.0         NaN\n",
       "206          Western Sahara     596066.0           9          1.0         NaN\n",
       "207  British Virgin Islands      30216.0           8          1.0       167.0\n",
       "208        Papua New Guinea    8932864.0           8          NaN      4646.0\n",
       "\n",
       "[209 rows x 5 columns]"
      ]
     },
     "execution_count": 6,
     "metadata": {},
     "output_type": "execute_result"
    }
   ],
   "source": [
    "covid"
   ]
  },
  {
   "cell_type": "code",
   "execution_count": 7,
   "metadata": {},
   "outputs": [
    {
     "data": {
      "text/plain": [
       "count        209.000000\n",
       "mean       30477.133971\n",
       "std       143952.912708\n",
       "min            8.000000\n",
       "25%          200.000000\n",
       "50%         1339.000000\n",
       "75%        10819.000000\n",
       "max      1881205.000000\n",
       "Name: TotalCases, dtype: object"
      ]
     },
     "execution_count": 7,
     "metadata": {},
     "output_type": "execute_result"
    }
   ],
   "source": [
    "covid[\"TotalCases\"].describe().apply(lambda x: format(x, 'f'))"
   ]
  },
  {
   "cell_type": "code",
   "execution_count": 8,
   "metadata": {},
   "outputs": [
    {
     "data": {
      "text/html": [
       "<div>\n",
       "<style scoped>\n",
       "    .dataframe tbody tr th:only-of-type {\n",
       "        vertical-align: middle;\n",
       "    }\n",
       "\n",
       "    .dataframe tbody tr th {\n",
       "        vertical-align: top;\n",
       "    }\n",
       "\n",
       "    .dataframe thead th {\n",
       "        text-align: right;\n",
       "    }\n",
       "</style>\n",
       "<table border=\"1\" class=\"dataframe\">\n",
       "  <thead>\n",
       "    <tr style=\"text-align: right;\">\n",
       "      <th></th>\n",
       "      <th>Country/Region</th>\n",
       "      <th>TotalCases</th>\n",
       "    </tr>\n",
       "  </thead>\n",
       "  <tbody>\n",
       "    <tr>\n",
       "      <th>0</th>\n",
       "      <td>USA</td>\n",
       "      <td>1881205</td>\n",
       "    </tr>\n",
       "    <tr>\n",
       "      <th>1</th>\n",
       "      <td>Brazil</td>\n",
       "      <td>558237</td>\n",
       "    </tr>\n",
       "    <tr>\n",
       "      <th>2</th>\n",
       "      <td>Russia</td>\n",
       "      <td>423741</td>\n",
       "    </tr>\n",
       "    <tr>\n",
       "      <th>3</th>\n",
       "      <td>Spain</td>\n",
       "      <td>287012</td>\n",
       "    </tr>\n",
       "    <tr>\n",
       "      <th>4</th>\n",
       "      <td>UK</td>\n",
       "      <td>277985</td>\n",
       "    </tr>\n",
       "  </tbody>\n",
       "</table>\n",
       "</div>"
      ],
      "text/plain": [
       "  Country/Region  TotalCases\n",
       "0            USA     1881205\n",
       "1         Brazil      558237\n",
       "2         Russia      423741\n",
       "3          Spain      287012\n",
       "4             UK      277985"
      ]
     },
     "execution_count": 8,
     "metadata": {},
     "output_type": "execute_result"
    }
   ],
   "source": [
    "total_cases = covid[['Country/Region', 'TotalCases']]\n",
    "\n",
    "total_cases.head()"
   ]
  },
  {
   "cell_type": "code",
   "execution_count": 9,
   "metadata": {},
   "outputs": [
    {
     "data": {
      "text/plain": [
       "<matplotlib.axes._subplots.AxesSubplot at 0x1accc6c2a88>"
      ]
     },
     "execution_count": 9,
     "metadata": {},
     "output_type": "execute_result"
    },
    {
     "data": {
      "image/png": "[encoded data removed]",
      "text/plain": [
       "<Figure size 432x288 with 1 Axes>"
      ]
     },
     "metadata": {
      "needs_background": "light"
     },
     "output_type": "display_data"
    }
   ],
   "source": [
    "total_cases.plot(kind='bar')"
   ]
  },
  {
   "cell_type": "code",
   "execution_count": 10,
   "metadata": {},
   "outputs": [
    {
     "data": {
      "image/png": "[encoded data removed]",
      "text/plain": [
       "<Figure size 432x288 with 1 Axes>"
      ]
     },
     "metadata": {
      "needs_background": "light"
     },
     "output_type": "display_data"
    }
   ],
   "source": [
    "x = total_cases['Country/Region']\n",
    "y = total_cases['TotalCases']\n",
    "\n",
    "plt.bar(x,y)\n",
    "plt.xticks(rotation=90)\n",
    "plt.tight_layout()\n",
    "plt.show()"
   ]
  },
  {
   "cell_type": "code",
   "execution_count": 11,
   "metadata": {},
   "outputs": [],
   "source": [
    "covid.to_csv('./CSV/covid.csv', index=False)"
   ]
  },
  {
   "cell_type": "markdown",
   "metadata": {},
   "source": [
    "Connect to Database"
   ]
  },
  {
   "cell_type": "code",
   "execution_count": 12,
   "metadata": {},
   "outputs": [],
   "source": [
    "file = pd.read_csv(\"./CSV/covid.csv\")"
   ]
  },
  {
   "cell_type": "code",
   "execution_count": 13,
   "metadata": {},
   "outputs": [
    {
     "data": {
      "text/html": [
       "<div>\n",
       "<style scoped>\n",
       "    .dataframe tbody tr th:only-of-type {\n",
       "        vertical-align: middle;\n",
       "    }\n",
       "\n",
       "    .dataframe tbody tr th {\n",
       "        vertical-align: top;\n",
       "    }\n",
       "\n",
       "    .dataframe thead th {\n",
       "        text-align: right;\n",
       "    }\n",
       "</style>\n",
       "<table border=\"1\" class=\"dataframe\">\n",
       "  <thead>\n",
       "    <tr style=\"text-align: right;\">\n",
       "      <th></th>\n",
       "      <th>Country/Region</th>\n",
       "      <th>Population</th>\n",
       "      <th>TotalCases</th>\n",
       "      <th>TotalDeaths</th>\n",
       "      <th>TotalTests</th>\n",
       "    </tr>\n",
       "  </thead>\n",
       "  <tbody>\n",
       "    <tr>\n",
       "      <th>0</th>\n",
       "      <td>USA</td>\n",
       "      <td>330854064.0</td>\n",
       "      <td>1881205</td>\n",
       "      <td>108059.0</td>\n",
       "      <td>18603174.0</td>\n",
       "    </tr>\n",
       "    <tr>\n",
       "      <th>1</th>\n",
       "      <td>Brazil</td>\n",
       "      <td>212442762.0</td>\n",
       "      <td>558237</td>\n",
       "      <td>31309.0</td>\n",
       "      <td>930013.0</td>\n",
       "    </tr>\n",
       "    <tr>\n",
       "      <th>2</th>\n",
       "      <td>Russia</td>\n",
       "      <td>145929848.0</td>\n",
       "      <td>423741</td>\n",
       "      <td>5037.0</td>\n",
       "      <td>11151622.0</td>\n",
       "    </tr>\n",
       "    <tr>\n",
       "      <th>3</th>\n",
       "      <td>Spain</td>\n",
       "      <td>46753443.0</td>\n",
       "      <td>287012</td>\n",
       "      <td>27127.0</td>\n",
       "      <td>4063843.0</td>\n",
       "    </tr>\n",
       "    <tr>\n",
       "      <th>4</th>\n",
       "      <td>UK</td>\n",
       "      <td>67858826.0</td>\n",
       "      <td>277985</td>\n",
       "      <td>39369.0</td>\n",
       "      <td>4615146.0</td>\n",
       "    </tr>\n",
       "  </tbody>\n",
       "</table>\n",
       "</div>"
      ],
      "text/plain": [
       "  Country/Region   Population  TotalCases  TotalDeaths  TotalTests\n",
       "0            USA  330854064.0     1881205     108059.0  18603174.0\n",
       "1         Brazil  212442762.0      558237      31309.0    930013.0\n",
       "2         Russia  145929848.0      423741       5037.0  11151622.0\n",
       "3          Spain   46753443.0      287012      27127.0   4063843.0\n",
       "4             UK   67858826.0      277985      39369.0   4615146.0"
      ]
     },
     "execution_count": 13,
     "metadata": {},
     "output_type": "execute_result"
    }
   ],
   "source": [
    "file_df = pd.DataFrame(file)\n",
    "file_df.head()"
   ]
  },
  {
   "cell_type": "code",
   "execution_count": 14,
   "metadata": {},
   "outputs": [],
   "source": [
    "rds_connection_string = \"postgres:postgres@localhost:5432/COVID_df\"\n",
    "engine = create_engine(f'postgresql://{rds_connection_string}')"
   ]
  },
  {
   "cell_type": "code",
   "execution_count": 15,
   "metadata": {},
   "outputs": [
    {
     "data": {
      "text/plain": [
       "['happiness_table',\n",
       " 'countrycode_table',\n",
       " 'covid_cases',\n",
       " 'capital_table',\n",
       " 'completed_table']"
      ]
     },
     "execution_count": 15,
     "metadata": {},
     "output_type": "execute_result"
    }
   ],
   "source": [
    "engine.table_names()"
   ]
  },
  {
   "cell_type": "code",
   "execution_count": 16,
   "metadata": {},
   "outputs": [],
   "source": [
    "file_df.rename(columns={\"Country/Region\":\"Country_Region\"}, inplace=True)"
   ]
  },
  {
   "cell_type": "code",
   "execution_count": 17,
   "metadata": {},
   "outputs": [
    {
     "data": {
      "text/html": [
       "<div>\n",
       "<style scoped>\n",
       "    .dataframe tbody tr th:only-of-type {\n",
       "        vertical-align: middle;\n",
       "    }\n",
       "\n",
       "    .dataframe tbody tr th {\n",
       "        vertical-align: top;\n",
       "    }\n",
       "\n",
       "    .dataframe thead th {\n",
       "        text-align: right;\n",
       "    }\n",
       "</style>\n",
       "<table border=\"1\" class=\"dataframe\">\n",
       "  <thead>\n",
       "    <tr style=\"text-align: right;\">\n",
       "      <th></th>\n",
       "      <th>Country_Region</th>\n",
       "      <th>Population</th>\n",
       "      <th>TotalCases</th>\n",
       "      <th>TotalDeaths</th>\n",
       "      <th>TotalTests</th>\n",
       "    </tr>\n",
       "  </thead>\n",
       "  <tbody>\n",
       "    <tr>\n",
       "      <th>0</th>\n",
       "      <td>USA</td>\n",
       "      <td>330854064.0</td>\n",
       "      <td>1881205</td>\n",
       "      <td>108059.0</td>\n",
       "      <td>18603174.0</td>\n",
       "    </tr>\n",
       "    <tr>\n",
       "      <th>1</th>\n",
       "      <td>Brazil</td>\n",
       "      <td>212442762.0</td>\n",
       "      <td>558237</td>\n",
       "      <td>31309.0</td>\n",
       "      <td>930013.0</td>\n",
       "    </tr>\n",
       "    <tr>\n",
       "      <th>2</th>\n",
       "      <td>Russia</td>\n",
       "      <td>145929848.0</td>\n",
       "      <td>423741</td>\n",
       "      <td>5037.0</td>\n",
       "      <td>11151622.0</td>\n",
       "    </tr>\n",
       "    <tr>\n",
       "      <th>3</th>\n",
       "      <td>Spain</td>\n",
       "      <td>46753443.0</td>\n",
       "      <td>287012</td>\n",
       "      <td>27127.0</td>\n",
       "      <td>4063843.0</td>\n",
       "    </tr>\n",
       "    <tr>\n",
       "      <th>4</th>\n",
       "      <td>UK</td>\n",
       "      <td>67858826.0</td>\n",
       "      <td>277985</td>\n",
       "      <td>39369.0</td>\n",
       "      <td>4615146.0</td>\n",
       "    </tr>\n",
       "  </tbody>\n",
       "</table>\n",
       "</div>"
      ],
      "text/plain": [
       "  Country_Region   Population  TotalCases  TotalDeaths  TotalTests\n",
       "0            USA  330854064.0     1881205     108059.0  18603174.0\n",
       "1         Brazil  212442762.0      558237      31309.0    930013.0\n",
       "2         Russia  145929848.0      423741       5037.0  11151622.0\n",
       "3          Spain   46753443.0      287012      27127.0   4063843.0\n",
       "4             UK   67858826.0      277985      39369.0   4615146.0"
      ]
     },
     "execution_count": 17,
     "metadata": {},
     "output_type": "execute_result"
    }
   ],
   "source": [
    "file_df.head()"
   ]
  },
  {
   "cell_type": "code",
   "execution_count": 18,
   "metadata": {},
   "outputs": [
    {
     "data": {
      "text/html": [
       "<div>\n",
       "<style scoped>\n",
       "    .dataframe tbody tr th:only-of-type {\n",
       "        vertical-align: middle;\n",
       "    }\n",
       "\n",
       "    .dataframe tbody tr th {\n",
       "        vertical-align: top;\n",
       "    }\n",
       "\n",
       "    .dataframe thead th {\n",
       "        text-align: right;\n",
       "    }\n",
       "</style>\n",
       "<table border=\"1\" class=\"dataframe\">\n",
       "  <thead>\n",
       "    <tr style=\"text-align: right;\">\n",
       "      <th></th>\n",
       "      <th>country_region</th>\n",
       "      <th>population</th>\n",
       "      <th>totalcases</th>\n",
       "      <th>totaldeaths</th>\n",
       "      <th>totaltests</th>\n",
       "    </tr>\n",
       "  </thead>\n",
       "  <tbody>\n",
       "    <tr>\n",
       "      <th>0</th>\n",
       "      <td>USA</td>\n",
       "      <td>330854064.0</td>\n",
       "      <td>1881205</td>\n",
       "      <td>108059.0</td>\n",
       "      <td>18603174.0</td>\n",
       "    </tr>\n",
       "    <tr>\n",
       "      <th>1</th>\n",
       "      <td>Brazil</td>\n",
       "      <td>212442762.0</td>\n",
       "      <td>558237</td>\n",
       "      <td>31309.0</td>\n",
       "      <td>930013.0</td>\n",
       "    </tr>\n",
       "    <tr>\n",
       "      <th>2</th>\n",
       "      <td>Russia</td>\n",
       "      <td>145929848.0</td>\n",
       "      <td>423741</td>\n",
       "      <td>5037.0</td>\n",
       "      <td>11151622.0</td>\n",
       "    </tr>\n",
       "    <tr>\n",
       "      <th>3</th>\n",
       "      <td>Spain</td>\n",
       "      <td>46753443.0</td>\n",
       "      <td>287012</td>\n",
       "      <td>27127.0</td>\n",
       "      <td>4063843.0</td>\n",
       "    </tr>\n",
       "    <tr>\n",
       "      <th>4</th>\n",
       "      <td>UK</td>\n",
       "      <td>67858826.0</td>\n",
       "      <td>277985</td>\n",
       "      <td>39369.0</td>\n",
       "      <td>4615146.0</td>\n",
       "    </tr>\n",
       "  </tbody>\n",
       "</table>\n",
       "</div>"
      ],
      "text/plain": [
       "  country_region   population  totalcases  totaldeaths  totaltests\n",
       "0            USA  330854064.0     1881205     108059.0  18603174.0\n",
       "1         Brazil  212442762.0      558237      31309.0    930013.0\n",
       "2         Russia  145929848.0      423741       5037.0  11151622.0\n",
       "3          Spain   46753443.0      287012      27127.0   4063843.0\n",
       "4             UK   67858826.0      277985      39369.0   4615146.0"
      ]
     },
     "execution_count": 18,
     "metadata": {},
     "output_type": "execute_result"
    }
   ],
   "source": [
    "file_df.columns=[\"country_region\",\"population\",\"totalcases\",\"totaldeaths\",\"totaltests\"]\n",
    "file_df.head()"
   ]
  },
  {
   "cell_type": "code",
   "execution_count": 20,
   "metadata": {},
   "outputs": [],
   "source": [
    "file_df.to_sql(name=\"covid_cases\", con=engine, if_exists='append', index= False)"
   ]
  },
  {
   "cell_type": "code",
   "execution_count": 21,
   "metadata": {},
   "outputs": [
    {
     "data": {
      "text/html": [
       "<div>\n",
       "<style scoped>\n",
       "    .dataframe tbody tr th:only-of-type {\n",
       "        vertical-align: middle;\n",
       "    }\n",
       "\n",
       "    .dataframe tbody tr th {\n",
       "        vertical-align: top;\n",
       "    }\n",
       "\n",
       "    .dataframe thead th {\n",
       "        text-align: right;\n",
       "    }\n",
       "</style>\n",
       "<table border=\"1\" class=\"dataframe\">\n",
       "  <thead>\n",
       "    <tr style=\"text-align: right;\">\n",
       "      <th></th>\n",
       "      <th>country_region</th>\n",
       "      <th>population</th>\n",
       "      <th>totalcases</th>\n",
       "      <th>totaldeaths</th>\n",
       "      <th>totaltests</th>\n",
       "    </tr>\n",
       "  </thead>\n",
       "  <tbody>\n",
       "    <tr>\n",
       "      <th>0</th>\n",
       "      <td>USA</td>\n",
       "      <td>330854064.0</td>\n",
       "      <td>1881205.0</td>\n",
       "      <td>108059.0</td>\n",
       "      <td>18603174.0</td>\n",
       "    </tr>\n",
       "    <tr>\n",
       "      <th>1</th>\n",
       "      <td>Brazil</td>\n",
       "      <td>212442762.0</td>\n",
       "      <td>558237.0</td>\n",
       "      <td>31309.0</td>\n",
       "      <td>930013.0</td>\n",
       "    </tr>\n",
       "    <tr>\n",
       "      <th>2</th>\n",
       "      <td>Russia</td>\n",
       "      <td>145929848.0</td>\n",
       "      <td>423741.0</td>\n",
       "      <td>5037.0</td>\n",
       "      <td>11151622.0</td>\n",
       "    </tr>\n",
       "    <tr>\n",
       "      <th>3</th>\n",
       "      <td>Spain</td>\n",
       "      <td>46753443.0</td>\n",
       "      <td>287012.0</td>\n",
       "      <td>27127.0</td>\n",
       "      <td>4063843.0</td>\n",
       "    </tr>\n",
       "    <tr>\n",
       "      <th>4</th>\n",
       "      <td>UK</td>\n",
       "      <td>67858826.0</td>\n",
       "      <td>277985.0</td>\n",
       "      <td>39369.0</td>\n",
       "      <td>4615146.0</td>\n",
       "    </tr>\n",
       "  </tbody>\n",
       "</table>\n",
       "</div>"
      ],
      "text/plain": [
       "  country_region   population  totalcases  totaldeaths  totaltests\n",
       "0            USA  330854064.0   1881205.0     108059.0  18603174.0\n",
       "1         Brazil  212442762.0    558237.0      31309.0    930013.0\n",
       "2         Russia  145929848.0    423741.0       5037.0  11151622.0\n",
       "3          Spain   46753443.0    287012.0      27127.0   4063843.0\n",
       "4             UK   67858826.0    277985.0      39369.0   4615146.0"
      ]
     },
     "execution_count": 21,
     "metadata": {},
     "output_type": "execute_result"
    }
   ],
   "source": [
    "pd.read_sql_query('select * from covid_cases', con=engine).head()"
   ]
  },
  {
   "cell_type": "code",
   "execution_count": null,
   "metadata": {},
   "outputs": [],
   "source": []
  }
 ],
 "metadata": {
  "kernelspec": {
   "display_name": "Python 3",
   "language": "python",
   "name": "python3"
  },
  "language_info": {
   "codemirror_mode": {
    "name": "ipython",
    "version": 3
   },
   "file_extension": ".py",
   "mimetype": "text/x-python",
   "name": "python",
   "nbconvert_exporter": "python",
   "pygments_lexer": "ipython3",
   "version": "3.7.6"
  }
 },
 "nbformat": 4,
 "nbformat_minor": 2
}
